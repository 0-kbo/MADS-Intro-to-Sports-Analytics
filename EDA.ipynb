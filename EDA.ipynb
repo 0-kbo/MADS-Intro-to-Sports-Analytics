{
 "cells": [
  {
   "cell_type": "code",
   "execution_count": 1,
   "id": "abfba222-6e5c-4ae7-a2cf-cb70871d228e",
   "metadata": {},
   "outputs": [],
   "source": [
    "import pandas as pd\n",
    "import numpy as np\n",
    "import cloudpickle\n",
    "import sklearn\n",
    "import seaborn as sns\n",
    "\n",
    "from sklearn.linear_model import LinearRegression\n",
    "from sklearn.pipeline import make_pipeline\n",
    "from sklearn.preprocessing import QuantileTransformer"
   ]
  },
  {
   "cell_type": "code",
   "execution_count": 2,
   "id": "f4c99939-86ce-43ab-9cee-30ed60da16d0",
   "metadata": {},
   "outputs": [],
   "source": [
    "df=pd.read_csv(\"../../assets/assignment/df_train.csv.gz\")"
   ]
  },
  {
   "cell_type": "code",
   "execution_count": 3,
   "id": "f57a9bde-d990-4e18-854c-f872bbb93c61",
   "metadata": {},
   "outputs": [
    {
     "data": {
      "text/html": [
       "<div>\n",
       "<style scoped>\n",
       "    .dataframe tbody tr th:only-of-type {\n",
       "        vertical-align: middle;\n",
       "    }\n",
       "\n",
       "    .dataframe tbody tr th {\n",
       "        vertical-align: top;\n",
       "    }\n",
       "\n",
       "    .dataframe thead th {\n",
       "        text-align: right;\n",
       "    }\n",
       "</style>\n",
       "<table border=\"1\" class=\"dataframe\">\n",
       "  <thead>\n",
       "    <tr style=\"text-align: right;\">\n",
       "      <th></th>\n",
       "      <th>lineage.event_series.id</th>\n",
       "      <th>lineage.event_series.name</th>\n",
       "      <th>lineage.previous_event.id</th>\n",
       "      <th>lineage.previous_event.name</th>\n",
       "      <th>lineage.previous_event.slug</th>\n",
       "      <th>location.name</th>\n",
       "      <th>location.city</th>\n",
       "      <th>location.state</th>\n",
       "      <th>location.zip</th>\n",
       "      <th>location.country_name</th>\n",
       "      <th>...</th>\n",
       "      <th>result.videos</th>\n",
       "      <th>result.finished</th>\n",
       "      <th>result.disqualified</th>\n",
       "      <th>result.duration</th>\n",
       "      <th>photo</th>\n",
       "      <th>event.race.id</th>\n",
       "      <th>clean_category.completed.name</th>\n",
       "      <th>clean_category.registered.name</th>\n",
       "      <th>sequence_id</th>\n",
       "      <th>overall_ranking</th>\n",
       "    </tr>\n",
       "  </thead>\n",
       "  <tbody>\n",
       "    <tr>\n",
       "      <th>0</th>\n",
       "      <td>4d7f441a-4fbc-4a3e-b0d1-4e1b7f000001</td>\n",
       "      <td>Hot Chocolate 15K/5K</td>\n",
       "      <td>56156dc5-e744-40c5-b2ae-5fc0c0a86526</td>\n",
       "      <td>2016 Hot Chocolate 15K/5K - Scottsdale</td>\n",
       "      <td>2016-hot-chocolate-15k-5k-scottsdale</td>\n",
       "      <td>Scottsdale, AZ</td>\n",
       "      <td>Scottsdale</td>\n",
       "      <td>AZ</td>\n",
       "      <td>NaN</td>\n",
       "      <td>US</td>\n",
       "      <td>...</td>\n",
       "      <td>[]</td>\n",
       "      <td>True</td>\n",
       "      <td>False</td>\n",
       "      <td>NaN</td>\n",
       "      <td>NaN</td>\n",
       "      <td>NaN</td>\n",
       "      <td>15k</td>\n",
       "      <td>15k</td>\n",
       "      <td>NaN</td>\n",
       "      <td>2117.0</td>\n",
       "    </tr>\n",
       "    <tr>\n",
       "      <th>1</th>\n",
       "      <td>4d7f441a-4fbc-4a3e-b0d1-4e1b7f000001</td>\n",
       "      <td>Hot Chocolate 15K/5K</td>\n",
       "      <td>56156dc5-e744-40c5-b2ae-5fc0c0a86526</td>\n",
       "      <td>2016 Hot Chocolate 15K/5K - Scottsdale</td>\n",
       "      <td>2016-hot-chocolate-15k-5k-scottsdale</td>\n",
       "      <td>Scottsdale, AZ</td>\n",
       "      <td>Scottsdale</td>\n",
       "      <td>AZ</td>\n",
       "      <td>NaN</td>\n",
       "      <td>US</td>\n",
       "      <td>...</td>\n",
       "      <td>[]</td>\n",
       "      <td>True</td>\n",
       "      <td>False</td>\n",
       "      <td>NaN</td>\n",
       "      <td>NaN</td>\n",
       "      <td>NaN</td>\n",
       "      <td>15k</td>\n",
       "      <td>15k</td>\n",
       "      <td>NaN</td>\n",
       "      <td>1343.0</td>\n",
       "    </tr>\n",
       "    <tr>\n",
       "      <th>2</th>\n",
       "      <td>4d7f441a-4fbc-4a3e-b0d1-4e1b7f000001</td>\n",
       "      <td>Hot Chocolate 15K/5K</td>\n",
       "      <td>56156dc5-e744-40c5-b2ae-5fc0c0a86526</td>\n",
       "      <td>2016 Hot Chocolate 15K/5K - Scottsdale</td>\n",
       "      <td>2016-hot-chocolate-15k-5k-scottsdale</td>\n",
       "      <td>Scottsdale, AZ</td>\n",
       "      <td>Scottsdale</td>\n",
       "      <td>AZ</td>\n",
       "      <td>NaN</td>\n",
       "      <td>US</td>\n",
       "      <td>...</td>\n",
       "      <td>[]</td>\n",
       "      <td>True</td>\n",
       "      <td>False</td>\n",
       "      <td>NaN</td>\n",
       "      <td>NaN</td>\n",
       "      <td>NaN</td>\n",
       "      <td>15k</td>\n",
       "      <td>15k</td>\n",
       "      <td>NaN</td>\n",
       "      <td>3084.0</td>\n",
       "    </tr>\n",
       "    <tr>\n",
       "      <th>3</th>\n",
       "      <td>4d7f441a-4fbc-4a3e-b0d1-4e1b7f000001</td>\n",
       "      <td>Hot Chocolate 15K/5K</td>\n",
       "      <td>56156dc5-e744-40c5-b2ae-5fc0c0a86526</td>\n",
       "      <td>2016 Hot Chocolate 15K/5K - Scottsdale</td>\n",
       "      <td>2016-hot-chocolate-15k-5k-scottsdale</td>\n",
       "      <td>Scottsdale, AZ</td>\n",
       "      <td>Scottsdale</td>\n",
       "      <td>AZ</td>\n",
       "      <td>NaN</td>\n",
       "      <td>US</td>\n",
       "      <td>...</td>\n",
       "      <td>[]</td>\n",
       "      <td>True</td>\n",
       "      <td>False</td>\n",
       "      <td>NaN</td>\n",
       "      <td>NaN</td>\n",
       "      <td>NaN</td>\n",
       "      <td>15k</td>\n",
       "      <td>15k</td>\n",
       "      <td>NaN</td>\n",
       "      <td>3085.0</td>\n",
       "    </tr>\n",
       "    <tr>\n",
       "      <th>4</th>\n",
       "      <td>4d7f441a-4fbc-4a3e-b0d1-4e1b7f000001</td>\n",
       "      <td>Hot Chocolate 15K/5K</td>\n",
       "      <td>56156dc5-e744-40c5-b2ae-5fc0c0a86526</td>\n",
       "      <td>2016 Hot Chocolate 15K/5K - Scottsdale</td>\n",
       "      <td>2016-hot-chocolate-15k-5k-scottsdale</td>\n",
       "      <td>Scottsdale, AZ</td>\n",
       "      <td>Scottsdale</td>\n",
       "      <td>AZ</td>\n",
       "      <td>NaN</td>\n",
       "      <td>US</td>\n",
       "      <td>...</td>\n",
       "      <td>[]</td>\n",
       "      <td>True</td>\n",
       "      <td>False</td>\n",
       "      <td>NaN</td>\n",
       "      <td>NaN</td>\n",
       "      <td>NaN</td>\n",
       "      <td>15k</td>\n",
       "      <td>15k</td>\n",
       "      <td>NaN</td>\n",
       "      <td>1241.0</td>\n",
       "    </tr>\n",
       "  </tbody>\n",
       "</table>\n",
       "<p>5 rows × 126 columns</p>\n",
       "</div>"
      ],
      "text/plain": [
       "                lineage.event_series.id lineage.event_series.name  \\\n",
       "0  4d7f441a-4fbc-4a3e-b0d1-4e1b7f000001      Hot Chocolate 15K/5K   \n",
       "1  4d7f441a-4fbc-4a3e-b0d1-4e1b7f000001      Hot Chocolate 15K/5K   \n",
       "2  4d7f441a-4fbc-4a3e-b0d1-4e1b7f000001      Hot Chocolate 15K/5K   \n",
       "3  4d7f441a-4fbc-4a3e-b0d1-4e1b7f000001      Hot Chocolate 15K/5K   \n",
       "4  4d7f441a-4fbc-4a3e-b0d1-4e1b7f000001      Hot Chocolate 15K/5K   \n",
       "\n",
       "              lineage.previous_event.id  \\\n",
       "0  56156dc5-e744-40c5-b2ae-5fc0c0a86526   \n",
       "1  56156dc5-e744-40c5-b2ae-5fc0c0a86526   \n",
       "2  56156dc5-e744-40c5-b2ae-5fc0c0a86526   \n",
       "3  56156dc5-e744-40c5-b2ae-5fc0c0a86526   \n",
       "4  56156dc5-e744-40c5-b2ae-5fc0c0a86526   \n",
       "\n",
       "              lineage.previous_event.name  \\\n",
       "0  2016 Hot Chocolate 15K/5K - Scottsdale   \n",
       "1  2016 Hot Chocolate 15K/5K - Scottsdale   \n",
       "2  2016 Hot Chocolate 15K/5K - Scottsdale   \n",
       "3  2016 Hot Chocolate 15K/5K - Scottsdale   \n",
       "4  2016 Hot Chocolate 15K/5K - Scottsdale   \n",
       "\n",
       "            lineage.previous_event.slug   location.name location.city  \\\n",
       "0  2016-hot-chocolate-15k-5k-scottsdale  Scottsdale, AZ    Scottsdale   \n",
       "1  2016-hot-chocolate-15k-5k-scottsdale  Scottsdale, AZ    Scottsdale   \n",
       "2  2016-hot-chocolate-15k-5k-scottsdale  Scottsdale, AZ    Scottsdale   \n",
       "3  2016-hot-chocolate-15k-5k-scottsdale  Scottsdale, AZ    Scottsdale   \n",
       "4  2016-hot-chocolate-15k-5k-scottsdale  Scottsdale, AZ    Scottsdale   \n",
       "\n",
       "  location.state  location.zip location.country_name  ...  result.videos  \\\n",
       "0             AZ           NaN                    US  ...             []   \n",
       "1             AZ           NaN                    US  ...             []   \n",
       "2             AZ           NaN                    US  ...             []   \n",
       "3             AZ           NaN                    US  ...             []   \n",
       "4             AZ           NaN                    US  ...             []   \n",
       "\n",
       "   result.finished  result.disqualified result.duration  photo  event.race.id  \\\n",
       "0             True                False             NaN    NaN            NaN   \n",
       "1             True                False             NaN    NaN            NaN   \n",
       "2             True                False             NaN    NaN            NaN   \n",
       "3             True                False             NaN    NaN            NaN   \n",
       "4             True                False             NaN    NaN            NaN   \n",
       "\n",
       "  clean_category.completed.name clean_category.registered.name sequence_id  \\\n",
       "0                           15k                            15k         NaN   \n",
       "1                           15k                            15k         NaN   \n",
       "2                           15k                            15k         NaN   \n",
       "3                           15k                            15k         NaN   \n",
       "4                           15k                            15k         NaN   \n",
       "\n",
       "  overall_ranking  \n",
       "0          2117.0  \n",
       "1          1343.0  \n",
       "2          3084.0  \n",
       "3          3085.0  \n",
       "4          1241.0  \n",
       "\n",
       "[5 rows x 126 columns]"
      ]
     },
     "execution_count": 3,
     "metadata": {},
     "output_type": "execute_result"
    }
   ],
   "source": [
    "df.head()"
   ]
  },
  {
   "cell_type": "code",
   "execution_count": 4,
   "id": "05c3e5d3-0c05-40f6-83a1-164aa40963f8",
   "metadata": {},
   "outputs": [
    {
     "data": {
      "text/plain": [
       "(293533, 126)"
      ]
     },
     "execution_count": 4,
     "metadata": {},
     "output_type": "execute_result"
    }
   ],
   "source": [
    "df.shape"
   ]
  },
  {
   "cell_type": "code",
   "execution_count": 5,
   "id": "b422f6e9-6109-40f2-8f58-bf9d5cc3a429",
   "metadata": {},
   "outputs": [
    {
     "data": {
      "text/plain": [
       "['lineage.event_series.id',\n",
       " 'lineage.event_series.name',\n",
       " 'lineage.previous_event.id',\n",
       " 'lineage.previous_event.name',\n",
       " 'lineage.previous_event.slug',\n",
       " 'location.name',\n",
       " 'location.city',\n",
       " 'location.state',\n",
       " 'location.zip',\n",
       " 'location.country_name',\n",
       " 'location.country_code',\n",
       " 'location.coordinates.latitude',\n",
       " 'location.coordinates.longitude',\n",
       " 'counts.participants.expected',\n",
       " 'counts.participants.registered',\n",
       " 'counts.participants.limit',\n",
       " 'fundraising.description',\n",
       " 'fundraising.goal',\n",
       " 'fundraising.status',\n",
       " 'fundraising.organizations',\n",
       " 'fundraising.default_organization.id',\n",
       " 'fundraising.default_organization.name',\n",
       " 'time.start',\n",
       " 'time.end',\n",
       " 'categories.name',\n",
       " 'body.id',\n",
       " 'body.name',\n",
       " 'body.results_certificate',\n",
       " 'body.timezone',\n",
       " 'body.type',\n",
       " 'body.slug',\n",
       " 'brackets.id',\n",
       " 'brackets.name',\n",
       " 'brackets.type',\n",
       " 'clean_categories.name',\n",
       " 'id',\n",
       " 'registrant_id',\n",
       " 'user_id',\n",
       " 'confirmation_number',\n",
       " 'registration_status',\n",
       " 'firstname',\n",
       " 'lastname',\n",
       " 'age',\n",
       " 'sex',\n",
       " 'bib',\n",
       " 'checkin_time',\n",
       " 'coupon',\n",
       " 'coupon_type',\n",
       " 'price',\n",
       " 'created',\n",
       " 'modified',\n",
       " 'completed',\n",
       " 'shipments',\n",
       " 'hometown',\n",
       " 'event.id',\n",
       " 'event.name',\n",
       " 'event.date.start',\n",
       " 'event.date.end',\n",
       " 'event.tenant.id',\n",
       " 'event.tenant.name',\n",
       " 'event.timezone',\n",
       " 'event.location.name',\n",
       " 'event.location.zip',\n",
       " 'event.location.coordinates.latitude',\n",
       " 'event.location.coordinates.longitude',\n",
       " 'event.images.hub.header',\n",
       " 'event.images.email.header',\n",
       " 'event.images.email.footer',\n",
       " 'event.images.logo',\n",
       " 'event.description',\n",
       " 'event.sections',\n",
       " 'event.results_posted',\n",
       " 'event.results_certificate',\n",
       " 'event.photos_available',\n",
       " 'event.photos_faces',\n",
       " 'event.photos_social_sharing',\n",
       " 'event.results_searchable',\n",
       " 'event.no_bib',\n",
       " 'event.color',\n",
       " 'event.sidebar',\n",
       " 'event.sidebar_elements',\n",
       " 'event.sharing.twitter.default_text',\n",
       " 'event.sharing.facebook.default_text',\n",
       " 'event.sharing.email.default_subject',\n",
       " 'event.sharing.email.default_body',\n",
       " 'category.registered.id',\n",
       " 'category.registered.name',\n",
       " 'category.registered.date',\n",
       " 'category.registered.distance.quantity',\n",
       " 'category.registered.distance.unit',\n",
       " 'category.registered.distance.name',\n",
       " 'category.registered.results_log_allow',\n",
       " 'category.registered.user_photo_upload_allow',\n",
       " 'category.completed.id',\n",
       " 'category.completed.name',\n",
       " 'category.completed.date',\n",
       " 'category.completed.distance.quantity',\n",
       " 'category.completed.distance.unit',\n",
       " 'category.completed.distance.name',\n",
       " 'corral.id',\n",
       " 'corral.name',\n",
       " 'corral.wave',\n",
       " 'corral.time.close',\n",
       " 'corral.time.start',\n",
       " 'team.id',\n",
       " 'team.name',\n",
       " 'team.bib',\n",
       " 'result.provider',\n",
       " 'result.hometown',\n",
       " 'result.race_name',\n",
       " 'result.primary_bracket',\n",
       " 'result.category_id',\n",
       " 'result.duration.chip',\n",
       " 'result.duration.pace',\n",
       " 'result.rankings',\n",
       " 'result.splits',\n",
       " 'result.videos',\n",
       " 'result.finished',\n",
       " 'result.disqualified',\n",
       " 'result.duration',\n",
       " 'photo',\n",
       " 'event.race.id',\n",
       " 'clean_category.completed.name',\n",
       " 'clean_category.registered.name',\n",
       " 'sequence_id',\n",
       " 'overall_ranking']"
      ]
     },
     "execution_count": 5,
     "metadata": {},
     "output_type": "execute_result"
    }
   ],
   "source": [
    "list(df.columns)"
   ]
  },
  {
   "cell_type": "code",
   "execution_count": 6,
   "id": "2916e666-b34c-4a76-a6f8-b0b0e7ea561e",
   "metadata": {},
   "outputs": [
    {
     "name": "stdout",
     "output_type": "stream",
     "text": [
      "lineage.event_series.id\n",
      "lineage.event_series.name\n",
      "lineage.previous_event.id\n",
      "lineage.previous_event.name\n",
      "lineage.previous_event.slug\n",
      "event.id\n",
      "event.name\n",
      "event.date.start\n",
      "event.date.end\n",
      "event.tenant.id\n",
      "event.tenant.name\n",
      "event.timezone\n",
      "event.location.name\n",
      "event.location.zip\n",
      "event.location.coordinates.latitude\n",
      "event.location.coordinates.longitude\n",
      "event.images.hub.header\n",
      "event.images.email.header\n",
      "event.images.email.footer\n",
      "event.images.logo\n",
      "event.description\n",
      "event.sections\n",
      "event.results_posted\n",
      "event.results_certificate\n",
      "event.photos_available\n",
      "event.photos_faces\n",
      "event.photos_social_sharing\n",
      "event.results_searchable\n",
      "event.no_bib\n",
      "event.color\n",
      "event.sidebar\n",
      "event.sidebar_elements\n",
      "event.sharing.twitter.default_text\n",
      "event.sharing.facebook.default_text\n",
      "event.sharing.email.default_subject\n",
      "event.sharing.email.default_body\n",
      "event.race.id\n"
     ]
    }
   ],
   "source": [
    "string = 'event'\n",
    "\n",
    "list = [print(x) for x in df.columns if string in x]"
   ]
  },
  {
   "cell_type": "markdown",
   "id": "3ba13826-9ecb-4b76-8952-57f98948f52a",
   "metadata": {},
   "source": [
    "# Gender Column"
   ]
  },
  {
   "cell_type": "code",
   "execution_count": 21,
   "id": "56576f28-89a2-41ff-98f0-3bcd94d2e4bd",
   "metadata": {},
   "outputs": [
    {
     "data": {
      "text/plain": [
       "Female           197623\n",
       "Male              95624\n",
       "NOT SPECIFIED        70\n",
       "F                    69\n",
       "M                    38\n",
       "Unspecified           1\n",
       "Name: sex, dtype: int64"
      ]
     },
     "execution_count": 21,
     "metadata": {},
     "output_type": "execute_result"
    }
   ],
   "source": [
    "df['sex'].value_counts()"
   ]
  },
  {
   "cell_type": "code",
   "execution_count": 31,
   "id": "215f01c7-534a-48fb-a7dd-1d746120a379",
   "metadata": {},
   "outputs": [],
   "source": [
    "#Needs cleaning... New column male == 1 \n",
    "\n",
    "#conditions = [\n",
    "#     (df['Set'] == 'Z') & (df['Type'] == 'A'),\n",
    "#     (df['Set'] == 'Z') & (df['Type'] == 'B'),\n",
    "#     (df['Type'] == 'B')]\n",
    "# choices = ['yellow', 'blue', 'purple']\n",
    "# df['color'] = np.select(conditions, choices, default='black')\n",
    "\n",
    "# df[df[\"team\"].str.contains(\"A|B\")==False]\n",
    "\n",
    "df = df[df['sex'].str.contains('NOT SPECIFIED|Unspecified')==False]\n",
    "\n",
    "conditions = [\n",
    "    (df['sex'] == 'F'),\n",
    "    (df['sex'] == 'M'),\n",
    "    (df['sex'] == 'Female'),\n",
    "    (df['sex'] == 'Male')\n",
    "]\n",
    "\n",
    "choices = ['Female','Male','Female','Male']\n",
    "\n",
    "\n",
    "df['sex_adj'] = np.select(conditions, choices)\n",
    "\n"
   ]
  },
  {
   "cell_type": "code",
   "execution_count": 32,
   "id": "2fcade34-c536-4575-8c90-74b80011bfb6",
   "metadata": {},
   "outputs": [
    {
     "data": {
      "text/plain": [
       "Female    197692\n",
       "Male       95662\n",
       "Name: sex_adj, dtype: int64"
      ]
     },
     "execution_count": 32,
     "metadata": {},
     "output_type": "execute_result"
    }
   ],
   "source": [
    "df['sex_adj'].value_counts()"
   ]
  },
  {
   "cell_type": "markdown",
   "id": "0b4ba4c6-df66-49b9-88b1-3d333b8f5997",
   "metadata": {},
   "source": [
    "# Age Column"
   ]
  },
  {
   "cell_type": "code",
   "execution_count": 25,
   "id": "c1023ab5-4761-4f8d-8814-25eb6dcbadee",
   "metadata": {},
   "outputs": [
    {
     "data": {
      "text/plain": [
       "<AxesSubplot:xlabel='age', ylabel='Count'>"
      ]
     },
     "execution_count": 25,
     "metadata": {},
     "output_type": "execute_result"
    },
    {
     "data": {
      "image/png": "[encoded data removed]",
      "text/plain": [
       "<Figure size 432x288 with 1 Axes>"
      ]
     },
     "metadata": {
      "needs_background": "light"
     },
     "output_type": "display_data"
    }
   ],
   "source": [
    "sns.histplot(x=df['age'])"
   ]
  },
  {
   "cell_type": "code",
   "execution_count": 38,
   "id": "885ef983-9c2d-4c24-9d6f-0606eb2527a6",
   "metadata": {},
   "outputs": [
    {
     "data": {
      "text/plain": [
       "count     259.000000\n",
       "mean      248.061776\n",
       "std       438.431547\n",
       "min        80.000000\n",
       "25%        81.000000\n",
       "50%        84.000000\n",
       "75%        99.000000\n",
       "max      2017.000000\n",
       "Name: age, dtype: float64"
      ]
     },
     "execution_count": 38,
     "metadata": {},
     "output_type": "execute_result"
    }
   ],
   "source": [
    "#count over 80... drop anyone over 79. Count is small enough.\n",
    "df.loc[df['age'] >= 80, 'age'].describe()"
   ]
  },
  {
   "cell_type": "code",
   "execution_count": 8,
   "id": "20e3b399-b69f-4b8e-8202-8fa5036e737e",
   "metadata": {},
   "outputs": [
    {
     "data": {
      "text/plain": [
       "<AxesSubplot:ylabel='Density'>"
      ]
     },
     "execution_count": 8,
     "metadata": {},
     "output_type": "execute_result"
    },
    {
     "data": {
      "image/png": "[encoded data removed]",
      "text/plain": [
       "<Figure size 432x288 with 1 Axes>"
      ]
     },
     "metadata": {
      "needs_background": "light"
     },
     "output_type": "display_data"
    }
   ],
   "source": [
    "x = df.loc[(df['age'] < 80) & (df['age'] > 5), 'age']\n",
    "sns.distplot(x = x, hist = True, kde = True)"
   ]
  },
  {
   "cell_type": "code",
   "execution_count": 11,
   "id": "86c102c6-400f-4c70-af8c-e9c5d2c86aa4",
   "metadata": {},
   "outputs": [
    {
     "data": {
      "text/plain": [
       "count    290540.000000\n",
       "mean         37.783999\n",
       "std          13.900884\n",
       "min           6.000000\n",
       "25%          28.000000\n",
       "50%          38.000000\n",
       "75%          48.000000\n",
       "max          79.000000\n",
       "Name: age, dtype: float64"
      ]
     },
     "execution_count": 11,
     "metadata": {},
     "output_type": "execute_result"
    }
   ],
   "source": [
    "x.describe()"
   ]
  },
  {
   "cell_type": "code",
   "execution_count": 37,
   "id": "bde625f0-c088-4c9f-981e-e2e14edcaba8",
   "metadata": {},
   "outputs": [
    {
     "data": {
      "text/plain": [
       "count    7560.000000\n",
       "mean        8.368519\n",
       "std         1.875589\n",
       "min        -1.000000\n",
       "25%         8.000000\n",
       "50%         9.000000\n",
       "75%        10.000000\n",
       "max        10.000000\n",
       "Name: age, dtype: float64"
      ]
     },
     "execution_count": 37,
     "metadata": {},
     "output_type": "execute_result"
    }
   ],
   "source": [
    "#count under 10... no one younger than 5 is going to actually participate. \n",
    "#Drop them?\n",
    "df.loc[df['age'] <= 10, 'age'].describe()"
   ]
  },
  {
   "cell_type": "markdown",
   "id": "20be56a9-ee6f-491f-88a8-19ccf5e972b3",
   "metadata": {},
   "source": [
    "# Distance Column"
   ]
  },
  {
   "cell_type": "code",
   "execution_count": 12,
   "id": "42c36aef-db86-46de-9325-9ace4374916a",
   "metadata": {},
   "outputs": [
    {
     "data": {
      "text/plain": [
       "5.0     150636\n",
       "15.0     82514\n",
       "10.0     17117\n",
       "13.1     14378\n",
       "26.2      3443\n",
       "8.0       1773\n",
       "21.1      1559\n",
       "5.7       1258\n",
       "1.0       1102\n",
       "2.0        840\n",
       "30.0       352\n",
       "7.0        235\n",
       "3.0        225\n",
       "7.1        163\n",
       "6.0        161\n",
       "4.0        159\n",
       "Name: category.registered.distance.quantity, dtype: int64"
      ]
     },
     "execution_count": 12,
     "metadata": {},
     "output_type": "execute_result"
    }
   ],
   "source": [
    "df['category.registered.distance.quantity'].value_counts()"
   ]
  },
  {
   "cell_type": "code",
   "execution_count": 13,
   "id": "e261489b-893c-4a2e-a0dc-d9c28416b682",
   "metadata": {},
   "outputs": [
    {
     "data": {
      "text/plain": [
       "km    261605\n",
       "mi     31928\n",
       "Name: category.registered.distance.unit, dtype: int64"
      ]
     },
     "execution_count": 13,
     "metadata": {},
     "output_type": "execute_result"
    }
   ],
   "source": [
    "df['category.registered.distance.unit'].value_counts()"
   ]
  },
  {
   "cell_type": "code",
   "execution_count": 53,
   "id": "0a5a9b5c-74ce-4e4d-9d33-a6bd50cec40d",
   "metadata": {},
   "outputs": [
    {
     "data": {
      "text/plain": [
       "5K               147351\n",
       "15K               82514\n",
       "0K                17618\n",
       "Half Marathon     14378\n",
       "10K               11314\n",
       "10.00 Mile         5803\n",
       "Marathon           3443\n",
       "5.00 Mile          3285\n",
       "21.1K              1559\n",
       "8.00 Mile          1497\n",
       "5.70 Mile          1258\n",
       "1.00 Mile          1102\n",
       "2.00 Mile           840\n",
       "30K                 352\n",
       "8K                  276\n",
       "7K                  235\n",
       "3K                  225\n",
       "7.10 Mile           163\n",
       "6K                  161\n",
       "4.00 Mile           159\n",
       "Name: category.registered.distance.name, dtype: int64"
      ]
     },
     "execution_count": 53,
     "metadata": {},
     "output_type": "execute_result"
    }
   ],
   "source": [
    "df['category.registered.distance.name'].value_counts()"
   ]
  },
  {
   "cell_type": "code",
   "execution_count": 16,
   "id": "10b6321c-cf44-4875-b7ca-e6b96e339c46",
   "metadata": {},
   "outputs": [],
   "source": [
    "#convert everything to miles... If distance.unit = km, then quantity * .62137\n",
    "\n",
    "#df['Discount'] = np.where(df['Courses']=='Spark', 1000, 2000)\n",
    "\n",
    "df['dist_adj'] = np.where(df['category.registered.distance.unit'] == 'km', (df['category.registered.distance.quantity'] * .62137), df['category.registered.distance.quantity'])"
   ]
  },
  {
   "cell_type": "code",
   "execution_count": 17,
   "id": "3243ef6f-142b-4e8d-9d4f-5956f2433987",
   "metadata": {},
   "outputs": [
    {
     "data": {
      "text/plain": [
       "3.106850     147351\n",
       "9.320550      82514\n",
       "13.100000     14378\n",
       "6.213700      11314\n",
       "10.000000      5803\n",
       "26.200000      3443\n",
       "5.000000       3285\n",
       "13.110907      1559\n",
       "8.000000       1497\n",
       "5.700000       1258\n",
       "1.000000       1102\n",
       "2.000000        840\n",
       "18.641100       352\n",
       "4.970960        276\n",
       "4.349590        235\n",
       "1.864110        225\n",
       "7.100000        163\n",
       "3.728220        161\n",
       "4.000000        159\n",
       "Name: dist_adj, dtype: int64"
      ]
     },
     "execution_count": 17,
     "metadata": {},
     "output_type": "execute_result"
    }
   ],
   "source": [
    "df['dist_adj'].value_counts()"
   ]
  },
  {
   "cell_type": "markdown",
   "id": "2e33b39c-f995-4505-96a0-d87fb63066e4",
   "metadata": {},
   "source": [
    "# Location Columns"
   ]
  },
  {
   "cell_type": "code",
   "execution_count": 57,
   "id": "cdd22ad7-8e59-4f31-ab3c-d8f3e97ccd69",
   "metadata": {},
   "outputs": [
    {
     "data": {
      "text/plain": [
       "US    293533\n",
       "Name: location.country_name, dtype: int64"
      ]
     },
     "execution_count": 57,
     "metadata": {},
     "output_type": "execute_result"
    }
   ],
   "source": [
    "df['location.country_name'].value_counts()"
   ]
  },
  {
   "cell_type": "code",
   "execution_count": 58,
   "id": "bfd9d24d-daae-403f-8c45-e9bdd2cd1a86",
   "metadata": {},
   "outputs": [
    {
     "data": {
      "text/plain": [
       "IL    88688\n",
       "MI    34760\n",
       "OH    23086\n",
       "CA    20987\n",
       "AZ    17332\n",
       "MO    16137\n",
       "OK    16118\n",
       "CO    14606\n",
       "TX    12374\n",
       "WA     9854\n",
       "PA     8458\n",
       "GA     6218\n",
       "FL     5594\n",
       "WI     4081\n",
       "TN     3996\n",
       "VA     3087\n",
       "NC     2933\n",
       "NM     1636\n",
       "WV     1222\n",
       "MN     1069\n",
       "OR      927\n",
       "IN      370\n",
       "Name: location.state, dtype: int64"
      ]
     },
     "execution_count": 58,
     "metadata": {},
     "output_type": "execute_result"
    }
   ],
   "source": [
    "#One hot encode states?\n",
    "df['location.state'].value_counts()"
   ]
  },
  {
   "cell_type": "code",
   "execution_count": 59,
   "id": "61e3064a-5e24-4fb1-958c-7b8c22298571",
   "metadata": {},
   "outputs": [
    {
     "data": {
      "text/plain": [
       "Chicago             83066\n",
       "Detroit             18054\n",
       "Scottsdale          17332\n",
       "Columbus            17190\n",
       "St. Louis           16137\n",
       "                    ...  \n",
       "Strasburg              76\n",
       "Bloomfield Hills       76\n",
       "Montrose               69\n",
       "Cadiz                  68\n",
       "Bolivar                52\n",
       "Name: location.city, Length: 81, dtype: int64"
      ]
     },
     "execution_count": 59,
     "metadata": {},
     "output_type": "execute_result"
    }
   ],
   "source": [
    "df['location.city'].value_counts()"
   ]
  },
  {
   "cell_type": "code",
   "execution_count": 67,
   "id": "895c5737-14ff-4680-98a6-62116ff35a86",
   "metadata": {},
   "outputs": [
    {
     "data": {
      "text/plain": [
       "0         CA\n",
       "1         CA\n",
       "2         CA\n",
       "3         CA\n",
       "4         AZ\n",
       "          ..\n",
       "293528    WI\n",
       "293529    IL\n",
       "293530    WI\n",
       "293531    WI\n",
       "293532    WI\n",
       "Name: home_state, Length: 293533, dtype: object"
      ]
     },
     "execution_count": 67,
     "metadata": {},
     "output_type": "execute_result"
    }
   ],
   "source": [
    "# Add as feature\n",
    "df['home_state'] = [x[-2:] for x in df['hometown']]\n",
    "# df['hometown'].value_counts()\n",
    "\n",
    "df['home_state']"
   ]
  },
  {
   "cell_type": "code",
   "execution_count": null,
   "id": "ec6de446-5c2f-44ff-ae66-c64b3226d79b",
   "metadata": {},
   "outputs": [],
   "source": [
    "#If home state == event.location, 1, 0 (Does someone have to travel to race?)"
   ]
  },
  {
   "cell_type": "markdown",
   "id": "113584f2-ccbc-452d-9b83-9d3338c50042",
   "metadata": {},
   "source": [
    "# Event Columns"
   ]
  },
  {
   "cell_type": "code",
   "execution_count": 20,
   "id": "2c5eb9f6-576c-4e24-8aaa-9f9fc79fa370",
   "metadata": {},
   "outputs": [
    {
     "data": {
      "text/plain": [
       "2018-11-04    29788\n",
       "2017-10-29    25404\n",
       "2018-10-21    19222\n",
       "2018-01-07    10866\n",
       "2018-02-03     9983\n",
       "              ...  \n",
       "2018-09-15       78\n",
       "2017-09-16       77\n",
       "2018-07-27       76\n",
       "2018-08-19       69\n",
       "2018-12-01        4\n",
       "Name: event.date.start, Length: 102, dtype: int64"
      ]
     },
     "execution_count": 20,
     "metadata": {},
     "output_type": "execute_result"
    }
   ],
   "source": [
    "df['event.date.start'].value_counts()"
   ]
  },
  {
   "cell_type": "code",
   "execution_count": null,
   "id": "b89466e7-4922-4b37-b5c2-564a41c49e8a",
   "metadata": {},
   "outputs": [],
   "source": [
    "#pull out year, pull out month "
   ]
  },
  {
   "cell_type": "markdown",
   "id": "0308499e-524f-4241-8224-b53102cf4c3e",
   "metadata": {},
   "source": [
    "# Duration Columns"
   ]
  },
  {
   "cell_type": "code",
   "execution_count": 11,
   "id": "80615018-49e9-4da2-be72-1ce98ca556bb",
   "metadata": {},
   "outputs": [
    {
     "data": {
      "text/plain": [
       "count       286342\n",
       "unique       13191\n",
       "top       00:32:26\n",
       "freq           139\n",
       "Name: result.duration.chip, dtype: object"
      ]
     },
     "execution_count": 11,
     "metadata": {},
     "output_type": "execute_result"
    }
   ],
   "source": [
    "df['result.duration.chip'].describe()"
   ]
  },
  {
   "cell_type": "code",
   "execution_count": 12,
   "id": "84ef0d9b-b6b1-4ce4-a887-e0e021a0f6ba",
   "metadata": {},
   "outputs": [
    {
     "data": {
      "text/plain": [
       "True     286342\n",
       "False      7191\n",
       "Name: result.finished, dtype: int64"
      ]
     },
     "execution_count": 12,
     "metadata": {},
     "output_type": "execute_result"
    }
   ],
   "source": [
    "df['result.finished'].value_counts()"
   ]
  },
  {
   "cell_type": "code",
   "execution_count": 26,
   "id": "03e90261-1a49-4980-959b-8deb079ded2a",
   "metadata": {},
   "outputs": [
    {
     "data": {
      "text/plain": [
       "0         01:51:13\n",
       "1         01:37:40\n",
       "2         02:18:00\n",
       "3         02:18:01\n",
       "4         01:35:45\n",
       "            ...   \n",
       "293528    00:28:53\n",
       "293529    00:30:46\n",
       "293530    00:31:14\n",
       "293531    00:30:20\n",
       "293532    00:33:19\n",
       "Name: result.duration.chip, Length: 293533, dtype: object"
      ]
     },
     "execution_count": 26,
     "metadata": {},
     "output_type": "execute_result"
    }
   ],
   "source": [
    "df['result.duration.chip']"
   ]
  },
  {
   "cell_type": "code",
   "execution_count": 25,
   "id": "38b2a0cf-cd29-4bb5-82b0-68483eb9afb9",
   "metadata": {},
   "outputs": [
    {
     "data": {
      "text/html": [
       "<div>\n",
       "<style scoped>\n",
       "    .dataframe tbody tr th:only-of-type {\n",
       "        vertical-align: middle;\n",
       "    }\n",
       "\n",
       "    .dataframe tbody tr th {\n",
       "        vertical-align: top;\n",
       "    }\n",
       "\n",
       "    .dataframe thead th {\n",
       "        text-align: right;\n",
       "    }\n",
       "</style>\n",
       "<table border=\"1\" class=\"dataframe\">\n",
       "  <thead>\n",
       "    <tr style=\"text-align: right;\">\n",
       "      <th></th>\n",
       "      <th>result.duration.chip</th>\n",
       "      <th>category.completed.distance.quantity</th>\n",
       "      <th>overall_ranking</th>\n",
       "      <th>clean_category.completed.name</th>\n",
       "      <th>clean_category.registered.name</th>\n",
       "    </tr>\n",
       "  </thead>\n",
       "  <tbody>\n",
       "    <tr>\n",
       "      <th>1054</th>\n",
       "      <td>NaN</td>\n",
       "      <td>15.0</td>\n",
       "      <td>NaN</td>\n",
       "      <td>15k</td>\n",
       "      <td>15k</td>\n",
       "    </tr>\n",
       "    <tr>\n",
       "      <th>8784</th>\n",
       "      <td>NaN</td>\n",
       "      <td>15.0</td>\n",
       "      <td>3459.0</td>\n",
       "      <td>5k</td>\n",
       "      <td>15k</td>\n",
       "    </tr>\n",
       "    <tr>\n",
       "      <th>8964</th>\n",
       "      <td>NaN</td>\n",
       "      <td>15.0</td>\n",
       "      <td>2162.0</td>\n",
       "      <td>5k</td>\n",
       "      <td>15k</td>\n",
       "    </tr>\n",
       "    <tr>\n",
       "      <th>9166</th>\n",
       "      <td>NaN</td>\n",
       "      <td>15.0</td>\n",
       "      <td>1958.0</td>\n",
       "      <td>5k</td>\n",
       "      <td>15k</td>\n",
       "    </tr>\n",
       "    <tr>\n",
       "      <th>9360</th>\n",
       "      <td>NaN</td>\n",
       "      <td>15.0</td>\n",
       "      <td>2893.0</td>\n",
       "      <td>5k</td>\n",
       "      <td>15k</td>\n",
       "    </tr>\n",
       "    <tr>\n",
       "      <th>...</th>\n",
       "      <td>...</td>\n",
       "      <td>...</td>\n",
       "      <td>...</td>\n",
       "      <td>...</td>\n",
       "      <td>...</td>\n",
       "    </tr>\n",
       "    <tr>\n",
       "      <th>250213</th>\n",
       "      <td>NaN</td>\n",
       "      <td>NaN</td>\n",
       "      <td>16.0</td>\n",
       "      <td>olympic triathlon</td>\n",
       "      <td>olympic triathlon</td>\n",
       "    </tr>\n",
       "    <tr>\n",
       "      <th>250235</th>\n",
       "      <td>NaN</td>\n",
       "      <td>NaN</td>\n",
       "      <td>19.0</td>\n",
       "      <td>olympic triathlon</td>\n",
       "      <td>olympic triathlon</td>\n",
       "    </tr>\n",
       "    <tr>\n",
       "      <th>250308</th>\n",
       "      <td>NaN</td>\n",
       "      <td>NaN</td>\n",
       "      <td>7.0</td>\n",
       "      <td>sprint triathlon</td>\n",
       "      <td>sprint triathlon</td>\n",
       "    </tr>\n",
       "    <tr>\n",
       "      <th>263148</th>\n",
       "      <td>NaN</td>\n",
       "      <td>15.0</td>\n",
       "      <td>NaN</td>\n",
       "      <td>15k</td>\n",
       "      <td>15k</td>\n",
       "    </tr>\n",
       "    <tr>\n",
       "      <th>276445</th>\n",
       "      <td>NaN</td>\n",
       "      <td>5.0</td>\n",
       "      <td>NaN</td>\n",
       "      <td>5k run</td>\n",
       "      <td>5k run</td>\n",
       "    </tr>\n",
       "  </tbody>\n",
       "</table>\n",
       "<p>7191 rows × 5 columns</p>\n",
       "</div>"
      ],
      "text/plain": [
       "       result.duration.chip  category.completed.distance.quantity  \\\n",
       "1054                    NaN                                  15.0   \n",
       "8784                    NaN                                  15.0   \n",
       "8964                    NaN                                  15.0   \n",
       "9166                    NaN                                  15.0   \n",
       "9360                    NaN                                  15.0   \n",
       "...                     ...                                   ...   \n",
       "250213                  NaN                                   NaN   \n",
       "250235                  NaN                                   NaN   \n",
       "250308                  NaN                                   NaN   \n",
       "263148                  NaN                                  15.0   \n",
       "276445                  NaN                                   5.0   \n",
       "\n",
       "        overall_ranking clean_category.completed.name  \\\n",
       "1054                NaN                           15k   \n",
       "8784             3459.0                            5k   \n",
       "8964             2162.0                            5k   \n",
       "9166             1958.0                            5k   \n",
       "9360             2893.0                            5k   \n",
       "...                 ...                           ...   \n",
       "250213             16.0             olympic triathlon   \n",
       "250235             19.0             olympic triathlon   \n",
       "250308              7.0              sprint triathlon   \n",
       "263148              NaN                           15k   \n",
       "276445              NaN                        5k run   \n",
       "\n",
       "       clean_category.registered.name  \n",
       "1054                              15k  \n",
       "8784                              15k  \n",
       "8964                              15k  \n",
       "9166                              15k  \n",
       "9360                              15k  \n",
       "...                               ...  \n",
       "250213              olympic triathlon  \n",
       "250235              olympic triathlon  \n",
       "250308               sprint triathlon  \n",
       "263148                            15k  \n",
       "276445                         5k run  \n",
       "\n",
       "[7191 rows x 5 columns]"
      ]
     },
     "execution_count": 25,
     "metadata": {},
     "output_type": "execute_result"
    }
   ],
   "source": [
    "test_df = df.copy()\n",
    "\n",
    "test_df = test_df[test_df['result.finished'] == False]\n",
    "\n",
    "test_df[['result.duration.chip','category.completed.distance.quantity','overall_ranking','clean_category.completed.name','clean_category.registered.name']]"
   ]
  },
  {
   "cell_type": "code",
   "execution_count": null,
   "id": "e0335cc5-1598-43ae-a958-660bac9a2334",
   "metadata": {},
   "outputs": [],
   "source": [
    "# Set duration chip to 7+ hrs for anyone who did not finsih... ensure that they will be ranked at the end of the race."
   ]
  },
  {
   "cell_type": "markdown",
   "id": "5318282f-ffaa-44ed-841d-5832677d7abe",
   "metadata": {},
   "source": [
    "# Event Columns"
   ]
  },
  {
   "cell_type": "code",
   "execution_count": 30,
   "id": "4d30c0d4-1de9-4ae6-94b6-cced3fa59459",
   "metadata": {},
   "outputs": [
    {
     "data": {
      "text/plain": [
       "548c6d9c-e064-4fe2-8231-4035c0a86526    125\n",
       "544011b9-12c0-49fe-9da8-0778c0a86526    107\n",
       "5429c881-da48-4092-8a31-23c6c0a86526     86\n",
       "5ad615d9-ec1c-4d14-aca3-358d5206f5f9     85\n",
       "5b09aacb-f328-4c76-96e8-0ffd5206f5f9     78\n",
       "                                       ... \n",
       "5bd2018f-8058-47a6-9299-35f75206f5f9      1\n",
       "59f384e3-9d74-461a-887a-66355206f5f9      1\n",
       "5814e32f-2028-4a56-acc2-66925206f5f9      1\n",
       "522c70b0-be84-48ff-9aa2-265dc0a86524      1\n",
       "5ba5b321-e954-4e7b-8a98-48ae5206f5f9      1\n",
       "Name: user_id, Length: 194995, dtype: int64"
      ]
     },
     "execution_count": 30,
     "metadata": {},
     "output_type": "execute_result"
    }
   ],
   "source": [
    "df['user_id'].value_counts()"
   ]
  },
  {
   "cell_type": "code",
   "execution_count": null,
   "id": "581be299-a6a2-451d-ba28-440fb958acea",
   "metadata": {},
   "outputs": [],
   "source": []
  },
  {
   "cell_type": "code",
   "execution_count": null,
   "id": "87b9fd75-8a4f-446a-bc47-2122d65fe2a6",
   "metadata": {},
   "outputs": [],
   "source": []
  }
 ],
 "metadata": {
  "kernelspec": {
   "display_name": "Python 3 (ipykernel)",
   "language": "python",
   "name": "python3"
  },
  "language_info": {
   "codemirror_mode": {
    "name": "ipython",
    "version": 3
   },
   "file_extension": ".py",
   "mimetype": "text/x-python",
   "name": "python",
   "nbconvert_exporter": "python",
   "pygments_lexer": "ipython3",
   "version": "3.8.10"
  }
 },
 "nbformat": 4,
 "nbformat_minor": 5
}
